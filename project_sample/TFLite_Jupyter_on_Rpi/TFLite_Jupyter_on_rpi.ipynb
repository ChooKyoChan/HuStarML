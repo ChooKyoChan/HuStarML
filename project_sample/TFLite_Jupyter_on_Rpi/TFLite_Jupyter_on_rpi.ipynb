{
 "cells": [
  {
   "cell_type": "markdown",
   "metadata": {},
   "source": [
    "## How to run TF Lite on Rpi for Object Detection\n",
    "\n",
    "\n",
    "1. [Edje Electronics Guide for Training Your Own TensorFlow Model](https://github.com/EdjeElectronics/TensorFlow-Lite-Object-Detection-on-Android-and-Raspberry-Pi)\n",
    "\n",
    "2. [Edje Electronics Github Tutorial](https://github.com/EdjeElectronics/TensorFlow-Lite-Object-Detection-on-Android-and-Raspberry-Pi/blob/master/Raspberry_Pi_Guide.md)\n",
    "\n",
    "3. [Overview of Google's TensorFlow Model for Object Detection](https://www.tensorflow.org/lite/models/object_detection/overview)\n",
    "\n",
    "4. [Edje Electronics Video](https://www.youtube.com/watch?v=aimSGOAUI8Y&feature=youtu.be)\n",
    "\n",
    "#### Rerunning it after set-up:\n",
    "\n",
    "- Turn on Rpi\n",
    "- Reactivate the virtual environment inside /home/pi/tflite1 folder:\n",
    "    - `source tflite1-env/bin/activate`\n",
    "- `python3 TFLite_detection_image.py --modeldir=Sample_TFLite_model`\n",
    "    - add an option like `--image=squirrel.jpg` or `--imagedir=...`\n",
    "- `python3 TFLite_detection_video.py --modeldir=Sample_TFLite_model` \n",
    "    - add an option like `--video='birdy.mp4'`, `test.mp4` by default\n",
    "- `python3 TFLite_detection_webcam.py --modeldir=Sample_TFLite_model`\n",
    "- `python3 TFLite_detection_image.py -h`\n",
    "    - add -h for help"
   ]
  },
  {
   "cell_type": "markdown",
   "metadata": {},
   "source": [
    "## How to setup Jupyter Notebook on Rpi 3"
   ]
  },
  {
   "cell_type": "markdown",
   "metadata": {},
   "source": [
    "Install the Python 3 Package Manager, run the following command:"
   ]
  },
  {
   "cell_type": "code",
   "execution_count": null,
   "metadata": {},
   "outputs": [],
   "source": [
    "sudo apt-get install python3-pip -y"
   ]
  },
  {
   "cell_type": "markdown",
   "metadata": {},
   "source": [
    "Install Virtualenv, run the following command:"
   ]
  },
  {
   "cell_type": "code",
   "execution_count": null,
   "metadata": {},
   "outputs": [],
   "source": [
    "sudo apt-get install virtualenv -y"
   ]
  },
  {
   "cell_type": "markdown",
   "metadata": {},
   "source": [
    "Install Supervisor, run the following command:"
   ]
  },
  {
   "cell_type": "code",
   "execution_count": null,
   "metadata": {},
   "outputs": [],
   "source": [
    "sudo apt-get install supervisor -y"
   ]
  },
  {
   "cell_type": "markdown",
   "metadata": {},
   "source": [
    "Create a directory to keep your Jupyter Notebook documents"
   ]
  },
  {
   "cell_type": "code",
   "execution_count": null,
   "metadata": {},
   "outputs": [],
   "source": [
    "mkdir ~/jupyter-notebook"
   ]
  },
  {
   "cell_type": "markdown",
   "metadata": {},
   "source": [
    "Create a virtual environment and install Jupyter Notebook"
   ]
  },
  {
   "cell_type": "code",
   "execution_count": null,
   "metadata": {},
   "outputs": [],
   "source": [
    "virtualenv -p python3 ~/jupyter-env"
   ]
  },
  {
   "cell_type": "markdown",
   "metadata": {},
   "source": [
    "After that, run the following commands to install Jupyter Notebook into the virtual environment:"
   ]
  },
  {
   "cell_type": "code",
   "execution_count": null,
   "metadata": {},
   "outputs": [],
   "source": [
    "source ~/jupyter-env/bin/activate\n",
    "pip install jupyter\n",
    "deactivate"
   ]
  },
  {
   "cell_type": "markdown",
   "metadata": {},
   "source": [
    "After all these commands had completed, you will be able to run Jupyter Notebook from the virtual environment."
   ]
  },
  {
   "cell_type": "markdown",
   "metadata": {},
   "source": [
    "## Creating a shell script to run Jupyter Notebook within the virtual environment"
   ]
  },
  {
   "cell_type": "markdown",
   "metadata": {},
   "source": [
    "create a shell script to run Jupyter Notebook, run o terminal:"
   ]
  },
  {
   "cell_type": "code",
   "execution_count": null,
   "metadata": {},
   "outputs": [],
   "source": [
    "sudo nano ~/jupyter-notebook/run-jupyter-notebook.sh"
   ]
  },
  {
   "cell_type": "markdown",
   "metadata": {},
   "source": [
    "inside the nano editor, create the following content:"
   ]
  },
  {
   "cell_type": "code",
   "execution_count": null,
   "metadata": {},
   "outputs": [],
   "source": [
    "#!/bin/bash\n",
    "source /home/pi/jupyter-env/bin/activate\n",
    "jupyter notebook --ip 0.0.0.0 --port 9999 --no-browser\n",
    "deactivate"
   ]
  },
  {
   "cell_type": "markdown",
   "metadata": {},
   "source": [
    "Once you had saved the file, make the file executable by running the following command:"
   ]
  },
  {
   "cell_type": "code",
   "execution_count": null,
   "metadata": {},
   "outputs": [],
   "source": [
    "sudo chmod +x ~/jupyter-notebook/run-jupyter-notebook.sh"
   ]
  },
  {
   "cell_type": "markdown",
   "metadata": {},
   "source": [
    "Create a Supervisor configuration file to run Jupyter Notebook. Run:"
   ]
  },
  {
   "cell_type": "code",
   "execution_count": null,
   "metadata": {},
   "outputs": [],
   "source": [
    "sudo nano /etc/supervisor/conf.d/jupyter-notebook.conf"
   ]
  },
  {
   "cell_type": "markdown",
   "metadata": {},
   "source": [
    "And inside the editor, create the following content:"
   ]
  },
  {
   "cell_type": "code",
   "execution_count": null,
   "metadata": {},
   "outputs": [],
   "source": [
    "[program:jupyter-notebook]\n",
    "directory=/home/pi/jupyter-notebook\n",
    "command=/bin/bash -E -c ./run-jupyter-notebook.sh\n",
    "autostart=true\n",
    "autorestart=true\n",
    "stopsignal=INT\n",
    "stopasgroup=true\n",
    "killasgroup=true\n",
    "user=pi"
   ]
  },
  {
   "cell_type": "markdown",
   "metadata": {},
   "source": [
    "Once you had saved /etc/supervisor/conf.d/jupyter-notebook.conf, run the following command to restart Supervisor:"
   ]
  },
  {
   "cell_type": "code",
   "execution_count": null,
   "metadata": {},
   "outputs": [],
   "source": [
    "sudo systemctl restart supervisor.service"
   ]
  },
  {
   "cell_type": "markdown",
   "metadata": {},
   "source": [
    "## Accessing Jupyter Notebook for the first time"
   ]
  },
  {
   "cell_type": "markdown",
   "metadata": {},
   "source": [
    "In order to get the token, get into supervisorctl with the following command:"
   ]
  },
  {
   "cell_type": "code",
   "execution_count": null,
   "metadata": {},
   "outputs": [],
   "source": [
    "sudo supervisorctl"
   ]
  },
  {
   "cell_type": "markdown",
   "metadata": {},
   "source": [
    "And inside supervisorctl, print the log generated by Jupyter Notebook by running the following command:"
   ]
  },
  {
   "cell_type": "code",
   "execution_count": null,
   "metadata": {},
   "outputs": [],
   "source": [
    "tail jupyter-notebook stdout"
   ]
  },
  {
   "cell_type": "markdown",
   "metadata": {},
   "source": [
    "This will print output similar to the following:\n",
    "\n",
    "[I 21:15:48.344 NotebookApp] Serving notebooks from local directory: /home/pi/jupyter-notebook\n",
    "[I 21:15:48.344 NotebookApp] 0 active kernels\n",
    "[I 21:15:48.345 NotebookApp] The Jupyter Notebook is running at:\n",
    "[I 21:15:48.345 NotebookApp] http://0.0.0.0:9999/?token=8f819c94ddbb9286271735fc9ab78838c6c81748d206ce37\n",
    "[I 21:15:48.346 NotebookApp] Use Control-C to stop this server and shut down all kernels (twice to skip confirmation).\n",
    "[C 21:15:48.348 NotebookApp] "
   ]
  },
  {
   "cell_type": "markdown",
   "metadata": {},
   "source": [
    "Enter http://[your-raspberry-pi-ip]:9999/?token=[token] in your browser. For example, if your Raspberry Pi 3 IP address is 192.168.1.109, you will enter http://192.168.1.109:9999/?token=8f819c94ddbb9286271735fc9ab78838c6c81748d206ce37 based on the above output."
   ]
  },
  {
   "cell_type": "markdown",
   "metadata": {},
   "source": [
    "## References"
   ]
  },
  {
   "cell_type": "markdown",
   "metadata": {},
   "source": [
    "Clivant a.k.a Chai Heng posts:\n",
    "\n",
    "https://www.techcoil.com/blog/how-to-setup-raspbian-stretch-lite-on-raspberry-pi-3-to-run-python-3-applications/\n",
    "\n",
    "https://www.techcoil.com/blog/how-to-setup-jupyter-notebook-on-raspberry-pi-3-with-raspbian-stretch-lite-supervisor-and-virtualenv-to-run-python-3-codes/"
   ]
  }
 ],
 "metadata": {
  "kernelspec": {
   "display_name": "Python 3",
   "language": "python",
   "name": "python3"
  },
  "language_info": {
   "codemirror_mode": {
    "name": "ipython",
    "version": 3
   },
   "file_extension": ".py",
   "mimetype": "text/x-python",
   "name": "python",
   "nbconvert_exporter": "python",
   "pygments_lexer": "ipython3",
   "version": "3.7.3"
  }
 },
 "nbformat": 4,
 "nbformat_minor": 2
}
