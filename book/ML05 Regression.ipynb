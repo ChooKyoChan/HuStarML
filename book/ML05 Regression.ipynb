{
 "cells": [
  {
   "cell_type": "markdown",
   "metadata": {},
   "source": [
    "# Machine Learning For Everyone\n",
    "Lecture notes for HuStar Project by idebtor@gmail.com \n",
    "**************"
   ]
  },
  {
   "cell_type": "markdown",
   "metadata": {},
   "source": [
    "# 제 5 강: 선형 회귀 $^{Linear Regression}$ \n",
    "\n",
    "\n",
    "## 학습 목표\n",
    "    - 선형 회귀를 활용하여 기계 학습의 Workflow를 이해한다. \n",
    "    \n",
    "## 학습 내용\n",
    "    - 선형 회귀\n",
    "    - Training set vs Test set\n"
   ]
  },
  {
   "cell_type": "markdown",
   "metadata": {},
   "source": [
    "__Simple Linear Regression__ is a statistical method to find relationship between two continuous variables. Out of the two variables present, one is independent variable and the other is dependent variable. Statistical relationship is not accurate in determining relationship between two variables. For example, relationship between height and weight.\n",
    "\n",
    "This relationship is defined by the famous line equation which you would have learned in high school."
   ]
  },
  {
   "cell_type": "markdown",
   "metadata": {},
   "source": [
    "$y = b0 + b1*x$\n",
    "where,\n",
    "$y$ is the dependent variable\n",
    "$x$ is the independent variable\n",
    "$b0$ is the base value of the relationship\n",
    "$b1$ is the slope of the line explaining the relationship between $y$ & $x$."
   ]
  },
  {
   "cell_type": "markdown",
   "metadata": {},
   "source": [
    "For instance, y refers to how does a person’s salary change with the years of experience that he has. So in that case salary would be the dependent variable and experience will be the independent variable and the base value will the salary of a person who has no experience. In our code example, we are going to work on such a dataset.\n",
    "\n",
    "In order to determine what is the best fitting line, let’s have a look at the following curve."
   ]
  },
  {
   "cell_type": "markdown",
   "metadata": {},
   "source": [
    "Point with red cross are actual or real data points, whereas points with green cross are predicted value of the regression model. The goal here is to make such a regression model that the sum of squared error is minimum."
   ]
  },
  {
   "cell_type": "markdown",
   "metadata": {},
   "source": [
    "## Importing the dataset and performing Data Preprocessing\n",
    "\n",
    "Diving into the dataset of our code today. We have a business problem, where a student body wants to establish a relationship between the study hours and the scores they get. We are going to investigate that correlation using Simple Linear Regression.\n",
    "\n",
    "Simple Linear Regression will tell us what is the best fitting line for this relationship. Let’s have a look at the dataset. You can download the dataset here.\n",
    "\n",
    "Our data consists of total 30 students and two attributes, __Hours studied__ and __Scores earned__. The attribute $Hours x$ is the independent attribute and the attribute $Scores y$ is the dependent attribute.\n"
   ]
  },
  {
   "cell_type": "markdown",
   "metadata": {},
   "source": [
    "Before diving into Regression part of the model, we need to perform Data Preprocessing on our dataset. I am going to write the code for that directly.\n"
   ]
  },
  {
   "cell_type": "code",
   "execution_count": 2,
   "metadata": {},
   "outputs": [],
   "source": [
    "# Importing the libraries\n",
    "import numpy as np\n",
    "import matplotlib.pyplot as plt\n",
    "import pandas as pd\n",
    "\n",
    "# Importing the dataset\n",
    "dataset = pd.read_csv('hours-scores.csv')\n",
    "X = dataset.iloc[:, :-1].values\n",
    "y = dataset.iloc[:, -1].values\n",
    "\n",
    "# Splitting the dataset into the Training set and Test set\n",
    "from sklearn.model_selection import train_test_split\n",
    "\n",
    "X_train, X_test, y_train, y_test = train_test_split(X, y, test_size = 1/4, random_state = 1)\n"
   ]
  },
  {
   "cell_type": "markdown",
   "metadata": {},
   "source": [
    "After executing this code, we have our training and testing sets split along with arrays and vectors of independent and dependent attributes respectively. They should look like this:\n"
   ]
  },
  {
   "cell_type": "code",
   "execution_count": 3,
   "metadata": {},
   "outputs": [
    {
     "name": "stdout",
     "output_type": "stream",
     "text": [
      "hour,score\n",
      "1.1,39.0\n",
      "1.3,46.0\n",
      "1.5,37.0\n",
      "2.0,37.0\n",
      "2.2,40.0\n",
      "3.0,60.0\n",
      "3.2,54.0\n",
      "3.7,57.0\n",
      "3.9,64.0\n",
      "4.0,55.0\n",
      "4.0,60.0\n",
      "4.1,57.0\n",
      "4.2,58.0\n",
      "4.5,61.0\n",
      "5.0,70.0\n",
      "5.1,70.0\n",
      "5.1,66.0\n",
      "5.2,72.0\n",
      "5.3,83.0\n",
      "5.4,82.0\n",
      "5.5,85.0\n",
      "5.9,83.0\n",
      "6.0,93.0\n",
      "6.5,95.0\n",
      "6.8,91.0\n",
      "7.0,98.0\n"
     ]
    }
   ],
   "source": [
    "!cat hours-scores.csv"
   ]
  },
  {
   "cell_type": "code",
   "execution_count": 4,
   "metadata": {},
   "outputs": [
    {
     "data": {
      "text/plain": [
       "LinearRegression(copy_X=True, fit_intercept=True, n_jobs=None, normalize=False)"
      ]
     },
     "execution_count": 4,
     "metadata": {},
     "output_type": "execute_result"
    }
   ],
   "source": [
    "# Fitting Simple Linear Regression to the Training set\n",
    "from sklearn.linear_model import LinearRegression\n",
    "\n",
    "regressor = None     # use LinearRegression()\n",
    "regressor.None    # use fit() and X_train, y_train"
   ]
  },
  {
   "cell_type": "markdown",
   "metadata": {
    "collapsed": true
   },
   "source": [
    "Since, our Machine Learning model already knows the correlation of our training set, we will now predict the values of our testing set and then later compare them with the actual values of the test set.\n",
    "To predict the values of the test set, we need to write the following code:"
   ]
  },
  {
   "cell_type": "code",
   "execution_count": 10,
   "metadata": {},
   "outputs": [],
   "source": [
    "# Predicting the Test set results\n",
    "y_pred = None      # Use X_test to see how good the model is"
   ]
  },
  {
   "cell_type": "markdown",
   "metadata": {},
   "source": [
    "After execution of code until now, we can manually have a look at the __predicted test set values__ and __actual test set values__ and see the how do they differ."
   ]
  },
  {
   "cell_type": "markdown",
   "metadata": {},
   "source": [
    "As you can see, the values differ with each other. Some have a very low difference like the 4th entry and some have a slightly higher difference like the 8th entry.\n"
   ]
  },
  {
   "cell_type": "markdown",
   "metadata": {},
   "source": [
    "### Visualising the correlation in the dataset\n",
    "\n",
    "Inorder to judge the actual correlation amongst the data, we are going to plot two curves.\n",
    "- Visualising the Training set results\n",
    "We do this using the following code:"
   ]
  },
  {
   "cell_type": "code",
   "execution_count": 12,
   "metadata": {},
   "outputs": [
    {
     "data": {
      "image/png": "[encoded data removed]",
      "text/plain": [
       "<Figure size 432x288 with 1 Axes>"
      ]
     },
     "metadata": {
      "needs_background": "light"
     },
     "output_type": "display_data"
    }
   ],
   "source": [
    "# Visualising the Training set results\n",
    "\n",
    "plt.scatter(X_train, y_train, color = 'red')\n",
    "plt.plot(X_train, regressor.predict(X_train), color = 'blue')\n",
    "\n",
    "plt.title('Scores vs Study Hours (Training set)')\n",
    "plt.xlabel('Hours')\n",
    "plt.ylabel('Scores')\n",
    "plt.show()"
   ]
  },
  {
   "cell_type": "markdown",
   "metadata": {},
   "source": [
    "As it can be seen, the line we have here is not that bad, since only a few points lie very far from it, most of the points lie around the line itself.\n",
    "\n",
    "- Visualising the Test set results\n",
    "\n",
    "We do this using the following code:\n"
   ]
  },
  {
   "cell_type": "code",
   "execution_count": 37,
   "metadata": {},
   "outputs": [
    {
     "data": {
      "image/png": "[encoded data removed]",
      "text/plain": [
       "<Figure size 432x288 with 1 Axes>"
      ]
     },
     "metadata": {
      "needs_background": "light"
     },
     "output_type": "display_data"
    }
   ],
   "source": [
    "# Visualising the Test set results\n",
    "\n",
    "\n",
    "plt.title('Scores vs Study Hours (Test set)')\n",
    "plt.xlabel('Study Hours')\n",
    "plt.ylabel('Scores')\n",
    "plt.show()"
   ]
  },
  {
   "cell_type": "markdown",
   "metadata": {},
   "source": [
    "Here, there can be a confusion on why the parameter of `regressor.predict()` is not changed in `plt.plot(X_train, regressor.predict(X_train), color = 'blue')` to `X_test`. This is so because, if we do that, we will get a new line altogether but we want to compare our test set to the line we got from our training set. \n",
    "The curve will look like this:\n"
   ]
  },
  {
   "cell_type": "markdown",
   "metadata": {},
   "source": [
    "Here, it can be seen that 5 out of 10 data points lie on the line itself. 3 out of 10 are very near to the line and only 2 out of 10 points are a little bit farther.\n",
    "This concludes this post on Simple Linear Regression in Python for Machine Learning Modelling."
   ]
  },
  {
   "cell_type": "markdown",
   "metadata": {},
   "source": [
    "------------"
   ]
  }
 ],
 "metadata": {
  "kernelspec": {
   "display_name": "Python 3",
   "language": "python",
   "name": "python3"
  },
  "language_info": {
   "codemirror_mode": {
    "name": "ipython",
    "version": 3
   },
   "file_extension": ".py",
   "mimetype": "text/x-python",
   "name": "python",
   "nbconvert_exporter": "python",
   "pygments_lexer": "ipython3",
   "version": "3.7.3"
  }
 },
 "nbformat": 4,
 "nbformat_minor": 2
}
